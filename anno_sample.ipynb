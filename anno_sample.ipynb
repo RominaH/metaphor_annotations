{
 "cells": [
  {
   "cell_type": "code",
   "execution_count": 1,
   "id": "170d4156-76c0-402d-8480-82f87d48ac5a",
   "metadata": {},
   "outputs": [],
   "source": [
    "import random"
   ]
  },
  {
   "cell_type": "code",
   "execution_count": 31,
   "id": "36cc726b-cf66-49cb-bb81-c383268c989f",
   "metadata": {},
   "outputs": [
    {
     "name": "stdout",
     "output_type": "stream",
     "text": [
      "Romina's annotations:\n",
      "from Hillary, 1-100: [72, 11]\n",
      "from Budget, 101-140: [131]\n",
      "from Watch, 141-161: [146]\n",
      "from Daycare, 162-182: [178]\n",
      "from China, 184-202: [184]\n",
      "from Pope, 203-222: [214]\n",
      "from Trump, 223-242: [235]\n",
      "from Aboriginal, 244-300: [280, 258]\n",
      "\n",
      "Vanja's annotations:\n",
      "from Belgium, 316-494 + 1120-1136: [332, 413, 418, 341]\n",
      "from Budget, 495-503: [495]\n",
      "from Chaos, 504-507: [504]\n",
      "from China, 508-547 + 1137: [521, 532]\n",
      "from Uber, 1138-1146: [1139]\n",
      "from Property, 580-600: [593]\n",
      "\n",
      "Amber's annotations:\n",
      "from Property, 600-679: [606, 678]\n",
      "from Refugees, 680-753: [683, 750, 745]\n",
      "from Trump, 754-858: [762, 853]\n",
      "from Uber, 859-989: [908, 907, 865]\n"
     ]
    }
   ],
   "source": [
    "random.seed(2025)\n",
    "print(\"Romina's annotations:\")\n",
    "print('from Hillary, 1-100:', random.sample(range(1,100), 2))\n",
    "print('from Budget, 101-140:', random.sample(range(101,140), 1))\n",
    "print('from Watch, 141-161:', random.sample(range(141,161), 1))\n",
    "print('from Daycare, 162-182:', random.sample(range(162,182), 1))\n",
    "print('from China, 184-202:', random.sample(range(184,202), 1))\n",
    "print('from Pope, 203-222:', random.sample(range(203,222), 1))\n",
    "print('from Trump, 223-242:', random.sample(range(223,242), 1))\n",
    "print('from Aboriginal, 244-300:', random.sample(range(244,300), 2))\n",
    "print(\"\\nVanja's annotations:\")\n",
    "print('from Belgium, 316-494 + 1120-1136:', random.sample(list(range(316,494))+list(range(1120,1136)), 4))\n",
    "print('from Budget, 495-503:', random.sample(range(495,503),1))\n",
    "print('from Chaos, 504-507:', random.sample(range(504,507), 1))\n",
    "print('from China, 508-547 + 1137:', random.sample(list(range(508,547))+[1137], 2))\n",
    "print(\"from Uber, 1138-1146:\", random.sample(range(1138,1146), 1))\n",
    "print('from Property, 580-600:', random.sample(range(580,600),1))\n",
    "print(\"\\nAmber's annotations:\")\n",
    "print('from Property, 600-679:', random.sample(range(600,679),2))\n",
    "print('from Refugees, 680-753:', random.sample(range(680,753), 3))\n",
    "print('from Trump, 754-858:', random.sample(range(754,858), 2))\n",
    "print(\"from Uber, 859-989:\", random.sample(range(859,989), 3))"
   ]
  },
  {
   "cell_type": "code",
   "execution_count": null,
   "id": "d9491b16-c2f4-4fb8-9585-c3399cefb5e7",
   "metadata": {},
   "outputs": [],
   "source": []
  }
 ],
 "metadata": {
  "kernelspec": {
   "display_name": "Python 3 (ipykernel)",
   "language": "python",
   "name": "python3"
  },
  "language_info": {
   "codemirror_mode": {
    "name": "ipython",
    "version": 3
   },
   "file_extension": ".py",
   "mimetype": "text/x-python",
   "name": "python",
   "nbconvert_exporter": "python",
   "pygments_lexer": "ipython3",
   "version": "3.10.11"
  }
 },
 "nbformat": 4,
 "nbformat_minor": 5
}
