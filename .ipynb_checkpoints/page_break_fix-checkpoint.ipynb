{
 "cells": [
  {
   "cell_type": "code",
   "execution_count": 22,
   "id": "8e25c1ea-f016-4442-8763-9a340b26922a",
   "metadata": {},
   "outputs": [],
   "source": [
    "import re"
   ]
  },
  {
   "cell_type": "code",
   "execution_count": 43,
   "id": "9866a005-131c-4d41-968f-b93e67ef8fa6",
   "metadata": {},
   "outputs": [],
   "source": [
    "path = \"socc/socc/annotated/negation/negation_annotation/source/\"\n",
    "\n",
    "files = [\"Aboriginal_43\", \"China_52\"]\n",
    "\n",
    "for number in [7, 15, 34, 39, 42, 54, 57, 58, 66, 68, 71, 73, 85, 100, 109, 115, 116]:\n",
    "    files.append(f\"Belgium_{number}\")\n",
    "\n",
    "for number in [7, 19, 29, 63, 82, 89, 92, 104, 121]:\n",
    "    files.append(f\"Uber_{number}\")"
   ]
  },
  {
   "cell_type": "code",
   "execution_count": 54,
   "id": "20b06861-fd56-4142-80ae-b996d1b20122",
   "metadata": {
    "scrolled": true
   },
   "outputs": [],
   "source": [
    "for file in files:\n",
    "    file_path=f\"{path}{file}.txt\"\n",
    "\n",
    "    og_file = open(file_path, \"r\")\n",
    "    text = re.sub('\\n+', ' ', og_file.read())\n",
    "    og_file.close()\n",
    "\n",
    "    \n",
    "    new_file_path=f\"{path}/new/{file}_fixed.txt\"\n",
    "    \n",
    "    fixed_file = open(new_file_path, \"w\")\n",
    "    fixed_file.write(text)\n",
    "    fixed_file.close()"
   ]
  }
 ],
 "metadata": {
  "kernelspec": {
   "display_name": "Python 3 (ipykernel)",
   "language": "python",
   "name": "python3"
  },
  "language_info": {
   "codemirror_mode": {
    "name": "ipython",
    "version": 3
   },
   "file_extension": ".py",
   "mimetype": "text/x-python",
   "name": "python",
   "nbconvert_exporter": "python",
   "pygments_lexer": "ipython3",
   "version": "3.10.11"
  }
 },
 "nbformat": 4,
 "nbformat_minor": 5
}
